{
 "cells": [
  {
   "cell_type": "code",
   "execution_count": 19,
   "metadata": {},
   "outputs": [],
   "source": [
    "import pandas as pd\n",
    "import os\n",
    "import glob\n",
    "from pathlib import Path\n",
    "import time"
   ]
  },
  {
   "cell_type": "code",
   "execution_count": 20,
   "metadata": {},
   "outputs": [
    {
     "name": "stderr",
     "output_type": "stream",
     "text": [
      "C:\\Users\\stree\\AppData\\Local\\Temp\\ipykernel_31392\\2718041950.py:13: FutureWarning: The behavior of DataFrame concatenation with empty or all-NA entries is deprecated. In a future version, this will no longer exclude empty or all-NA columns when determining the result dtypes. To retain the old behavior, exclude the relevant entries before the concat operation.\n",
      "  all_dataframe = pd.concat(dfs, ignore_index=True)\n"
     ]
    },
    {
     "name": "stdout",
     "output_type": "stream",
     "text": [
      "Loading time: 3.01 \n"
     ]
    }
   ],
   "source": [
    "start_time = time.time()  # Record the start time\n",
    "\n",
    "pathway = str(  Path(r'C:\\Users\\stree\\OneDrive\\Desktop\\Selenium\\01projeto\\zSSP\\Output_file\\*.csv')  )\n",
    "files = glob.glob(pathway)\n",
    "\n",
    "dfs = []\n",
    "\n",
    "for file in files:\n",
    "    df = pd.read_csv(file, sep=';')\n",
    "    dfs.append(df)\n",
    "\n",
    "\n",
    "all_dataframe = pd.concat(dfs, ignore_index=True)\n",
    "\n",
    "end_time = time.time()  # Record the end time\n",
    "\n",
    "elapsed_time = end_time - start_time  # Calculate elapsed time\n",
    "print(f'Loading time: {round(elapsed_time, 2)} ')"
   ]
  },
  {
   "cell_type": "code",
   "execution_count": 21,
   "metadata": {},
   "outputs": [
    {
     "data": {
      "text/html": [
       "<div>\n",
       "<style scoped>\n",
       "    .dataframe tbody tr th:only-of-type {\n",
       "        vertical-align: middle;\n",
       "    }\n",
       "\n",
       "    .dataframe tbody tr th {\n",
       "        vertical-align: top;\n",
       "    }\n",
       "\n",
       "    .dataframe thead th {\n",
       "        text-align: right;\n",
       "    }\n",
       "</style>\n",
       "<table border=\"1\" class=\"dataframe\">\n",
       "  <thead>\n",
       "    <tr style=\"text-align: right;\">\n",
       "      <th></th>\n",
       "      <th>Regiao</th>\n",
       "      <th>Municipio</th>\n",
       "      <th>Delegacia</th>\n",
       "    </tr>\n",
       "  </thead>\n",
       "  <tbody>\n",
       "    <tr>\n",
       "      <th>0</th>\n",
       "      <td>Araçatuba</td>\n",
       "      <td>Alto Alegre</td>\n",
       "      <td>DM - Alto Alegre</td>\n",
       "    </tr>\n",
       "    <tr>\n",
       "      <th>1</th>\n",
       "      <td>Araçatuba</td>\n",
       "      <td>Alto Alegre</td>\n",
       "      <td>DM - Alto Alegre</td>\n",
       "    </tr>\n",
       "    <tr>\n",
       "      <th>2</th>\n",
       "      <td>Araçatuba</td>\n",
       "      <td>Alto Alegre</td>\n",
       "      <td>DM - Alto Alegre</td>\n",
       "    </tr>\n",
       "    <tr>\n",
       "      <th>3</th>\n",
       "      <td>Araçatuba</td>\n",
       "      <td>Alto Alegre</td>\n",
       "      <td>DM - Alto Alegre</td>\n",
       "    </tr>\n",
       "    <tr>\n",
       "      <th>4</th>\n",
       "      <td>Araçatuba</td>\n",
       "      <td>Alto Alegre</td>\n",
       "      <td>DM - Alto Alegre</td>\n",
       "    </tr>\n",
       "    <tr>\n",
       "      <th>...</th>\n",
       "      <td>...</td>\n",
       "      <td>...</td>\n",
       "      <td>...</td>\n",
       "    </tr>\n",
       "    <tr>\n",
       "      <th>34012</th>\n",
       "      <td>São José dos Campos</td>\n",
       "      <td>Ubatuba</td>\n",
       "      <td>DM - Ubatuba</td>\n",
       "    </tr>\n",
       "    <tr>\n",
       "      <th>34013</th>\n",
       "      <td>São José dos Campos</td>\n",
       "      <td>Ubatuba</td>\n",
       "      <td>DM - Ubatuba</td>\n",
       "    </tr>\n",
       "    <tr>\n",
       "      <th>34014</th>\n",
       "      <td>São José dos Campos</td>\n",
       "      <td>Ubatuba</td>\n",
       "      <td>DM - Ubatuba</td>\n",
       "    </tr>\n",
       "    <tr>\n",
       "      <th>34015</th>\n",
       "      <td>São José dos Campos</td>\n",
       "      <td>Ubatuba</td>\n",
       "      <td>DM - Ubatuba</td>\n",
       "    </tr>\n",
       "    <tr>\n",
       "      <th>34016</th>\n",
       "      <td>São José dos Campos</td>\n",
       "      <td>Ubatuba</td>\n",
       "      <td>DM - Ubatuba</td>\n",
       "    </tr>\n",
       "  </tbody>\n",
       "</table>\n",
       "<p>34017 rows × 3 columns</p>\n",
       "</div>"
      ],
      "text/plain": [
       "                    Regiao    Municipio         Delegacia\n",
       "0                Araçatuba  Alto Alegre  DM - Alto Alegre\n",
       "1                Araçatuba  Alto Alegre  DM - Alto Alegre\n",
       "2                Araçatuba  Alto Alegre  DM - Alto Alegre\n",
       "3                Araçatuba  Alto Alegre  DM - Alto Alegre\n",
       "4                Araçatuba  Alto Alegre  DM - Alto Alegre\n",
       "...                    ...          ...               ...\n",
       "34012  São José dos Campos      Ubatuba      DM - Ubatuba\n",
       "34013  São José dos Campos      Ubatuba      DM - Ubatuba\n",
       "34014  São José dos Campos      Ubatuba      DM - Ubatuba\n",
       "34015  São José dos Campos      Ubatuba      DM - Ubatuba\n",
       "34016  São José dos Campos      Ubatuba      DM - Ubatuba\n",
       "\n",
       "[34017 rows x 3 columns]"
      ]
     },
     "execution_count": 21,
     "metadata": {},
     "output_type": "execute_result"
    }
   ],
   "source": [
    "all_dataframe[['Regiao', 'Municipio', 'Delegacia']]"
   ]
  }
 ],
 "metadata": {
  "kernelspec": {
   "display_name": "venv",
   "language": "python",
   "name": "python3"
  },
  "language_info": {
   "codemirror_mode": {
    "name": "ipython",
    "version": 3
   },
   "file_extension": ".py",
   "mimetype": "text/x-python",
   "name": "python",
   "nbconvert_exporter": "python",
   "pygments_lexer": "ipython3",
   "version": "3.12.1"
  }
 },
 "nbformat": 4,
 "nbformat_minor": 2
}
